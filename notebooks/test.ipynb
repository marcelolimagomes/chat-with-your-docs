{
 "cells": [
  {
   "cell_type": "code",
   "execution_count": 13,
   "metadata": {},
   "outputs": [],
   "source": [
    "import ollama\n",
    "from ollama import Tool"
   ]
  },
  {
   "cell_type": "code",
   "execution_count": 22,
   "metadata": {},
   "outputs": [
    {
     "name": "stdout",
     "output_type": "stream",
     "text": [
      "llama3.1:8b\n",
      "deepseek-r1:14b\n",
      "llama3.1:latest\n",
      "deepseek-r1:latest\n",
      "mistral:latest\n",
      "deepseek-r1:1.5b\n"
     ]
    }
   ],
   "source": [
    "models = ollama.list()\n",
    "for model in models['models']:\n",
    "  print(model['model'])"
   ]
  },
  {
   "cell_type": "code",
   "execution_count": 23,
   "metadata": {},
   "outputs": [
    {
     "name": "stdout",
     "output_type": "stream",
     "text": [
      "✅ Model 'mistral' is installed!\n"
     ]
    }
   ],
   "source": [
    "def is_model_available(model_name):\n",
    "    models = ollama.list()\n",
    "    return any(model_name in model['model'] for model in models['models'])\n",
    "\n",
    "# Example usage\n",
    "model_name = \"mistral\"  # Change to \"llama3\" or another model if needed\n",
    "if is_model_available(model_name):\n",
    "    print(f\"✅ Model '{model_name}' is installed!\")\n",
    "else:\n",
    "    print(f\"❌ Model '{model_name}' is NOT installed. Run `ollama pull {model_name}` to download it.\")\n"
   ]
  }
 ],
 "metadata": {
  "kernelspec": {
   "display_name": "bot",
   "language": "python",
   "name": "python3"
  },
  "language_info": {
   "codemirror_mode": {
    "name": "ipython",
    "version": 3
   },
   "file_extension": ".py",
   "mimetype": "text/x-python",
   "name": "python",
   "nbconvert_exporter": "python",
   "pygments_lexer": "ipython3",
   "version": "3.11.11"
  }
 },
 "nbformat": 4,
 "nbformat_minor": 2
}
